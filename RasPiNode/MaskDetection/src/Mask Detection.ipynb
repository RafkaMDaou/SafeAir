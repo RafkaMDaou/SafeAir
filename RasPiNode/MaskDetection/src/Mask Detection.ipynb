{
 "cells": [
  {
   "cell_type": "markdown",
   "metadata": {},
   "source": [
    "## Install Packages"
   ]
  },
  {
   "cell_type": "code",
   "execution_count": 102,
   "metadata": {},
   "outputs": [
    {
     "name": "stdout",
     "output_type": "stream",
     "text": [
      "Requirement already satisfied: smbus2 in c:\\users\\12148\\anaconda3\\lib\\site-packages (0.4.1)\n"
     ]
    }
   ],
   "source": [
    "import sys\n",
    "!{sys.executable} -m pip install smbus2"
   ]
  },
  {
   "cell_type": "markdown",
   "metadata": {},
   "source": [
    "## Import Packages"
   ]
  },
  {
   "cell_type": "code",
   "execution_count": 103,
   "metadata": {},
   "outputs": [],
   "source": [
    "import cv2 as cv\n",
    "import numpy as np\n",
    "from tensorflow.keras.preprocessing.image import ImageDataGenerator\n",
    "from tensorflow.keras.applications import MobileNetV2\n",
    "from tensorflow.keras.layers import AveragePooling2D\n",
    "from tensorflow.keras.layers import Dropout\n",
    "from tensorflow.keras.layers import Flatten\n",
    "from tensorflow.keras.layers import Dense\n",
    "from tensorflow.keras.layers import Input\n",
    "from tensorflow.keras.models import Model\n",
    "from tensorflow.keras.optimizers import Adam\n",
    "from tensorflow.keras.applications.mobilenet_v2 import preprocess_input\n",
    "from tensorflow.keras.preprocessing.image import img_to_array\n",
    "from tensorflow.keras.preprocessing.image import load_img\n",
    "from tensorflow.keras.utils import to_categorical\n",
    "from sklearn.preprocessing import LabelBinarizer\n",
    "from sklearn.model_selection import train_test_split\n",
    "from sklearn.metrics import classification_report\n",
    "from imutils import paths\n",
    "from progressbar import ProgressBar\n",
    "from picamera.array import PiRGBArray\n",
    "from picamera import PiCamera\n",
    "#from smbus2 import SMBus\n",
    "#from mlx90614 import MLX90614\n",
    "import time\n",
    "import matplotlib.pyplot as plt\n",
    "import numpy as np"
   ]
  },
  {
   "cell_type": "markdown",
   "metadata": {},
   "source": [
    "## Label Mask Dataset"
   ]
  },
  {
   "cell_type": "code",
   "execution_count": 4,
   "metadata": {},
   "outputs": [
    {
     "name": "stderr",
     "output_type": "stream",
     "text": [
      "100% |########################################################################|\n",
      "C:\\Users\\12148\\Anaconda3\\lib\\site-packages\\PIL\\Image.py:989: UserWarning: Palette images with Transparency expressed in bytes should be converted to RGBA images\n",
      "  \"Palette images with Transparency expressed in bytes should be \"\n",
      "100% |########################################################################|\n"
     ]
    }
   ],
   "source": [
    "without_imagePaths = list(paths.list_images('without_mask'))\n",
    "with_imagePaths = list(paths.list_images('with_mask'))\n",
    "data = []\n",
    "labels = []\n",
    "\n",
    "without_pbar = ProgressBar()\n",
    "with_pbar = ProgressBar()\n",
    "\n",
    "for imagePath in without_pbar(without_imagePaths):\n",
    "    # extract the class label from the filename\n",
    "    label = 0\n",
    "    \n",
    "    # load the input image (224x224) and preprocess it\n",
    "    image = load_img(imagePath, target_size=(224, 224))\n",
    "    image = img_to_array(image)\n",
    "    image = preprocess_input(image)\n",
    "    \n",
    "    # update the data and labels lists, respectively\n",
    "    data.append(image)\n",
    "    labels.append(label)\n",
    "\n",
    "for imagePath in with_pbar(with_imagePaths):\n",
    "    # extract the class label from the filename\n",
    "    label = 1\n",
    "    \n",
    "    # load the input image (224x224) and preprocess it\n",
    "    image = load_img(imagePath, target_size=(224, 224))\n",
    "    image = img_to_array(image)\n",
    "    image = preprocess_input(image)\n",
    "    \n",
    "    # update the data and labels lists, respectively\n",
    "    data.append(image)\n",
    "    labels.append(label)\n",
    "    \n",
    "    # convert the data and labels to NumPy arrays\n",
    "data = np.array(data, dtype=\"float32\")\n",
    "labels = np.array(labels)"
   ]
  },
  {
   "cell_type": "code",
   "execution_count": 5,
   "metadata": {},
   "outputs": [],
   "source": [
    "lb = LabelBinarizer()\n",
    "labels = lb.fit_transform(labels)\n",
    "labels = to_categorical(labels)\n",
    "\n",
    "# partition the data into training and testing splits using 80% of\n",
    "# the data for training and the remaining 20% for testing\n",
    "(trainX, testX, trainY, testY) = train_test_split(data, labels,\n",
    "    test_size=0.20, stratify=labels, random_state=42)\n",
    "\n",
    "# construct the training image generator for data augmentation\n",
    "aug = ImageDataGenerator(\n",
    "    rotation_range=20,\n",
    "    zoom_range=0.15,\n",
    "    width_shift_range=0.2,\n",
    "    height_shift_range=0.2,\n",
    "    shear_range=0.15,\n",
    "    horizontal_flip=True,\n",
    "    fill_mode=\"nearest\")"
   ]
  },
  {
   "cell_type": "markdown",
   "metadata": {},
   "source": [
    "## Create Mask CNN Model"
   ]
  },
  {
   "cell_type": "code",
   "execution_count": 53,
   "metadata": {},
   "outputs": [
    {
     "name": "stdout",
     "output_type": "stream",
     "text": [
      "WARNING:tensorflow:`input_shape` is undefined or non-square, or `rows` is not in [96, 128, 160, 192, 224]. Weights for input shape (224, 224) will be loaded as the default.\n"
     ]
    }
   ],
   "source": [
    "# load the MobileNetV2 network, ensuring the head FC layer sets are\n",
    "# left off\n",
    "baseModel = MobileNetV2(weights=\"imagenet\", include_top=False,\n",
    "input_tensor=Input(shape=(224, 224, 3)))\n",
    "\n",
    "# construct the head of the model that will be placed on top of the\n",
    "# the base model\n",
    "headModel = baseModel.output\n",
    "headModel = AveragePooling2D(pool_size=(7, 7))(headModel)\n",
    "headModel = Flatten(name=\"flatten\")(headModel)\n",
    "headModel = Dense(128, activation=\"relu\")(headModel)\n",
    "headModel = Dropout(0.5)(headModel)\n",
    "headModel = Dense(2, activation=\"softmax\")(headModel)\n",
    "\n",
    "# place the head FC model on top of the base model (this will become\n",
    "# the actual model we will train)\n",
    "model = Model(inputs=baseModel.input, outputs=headModel)\n",
    "\n",
    "# loop over all layers in the base model and freeze them so they will\n",
    "# *not* be updated during the first training process\n",
    "for layer in baseModel.layers:\n",
    "    layer.trainable = False"
   ]
  },
  {
   "cell_type": "markdown",
   "metadata": {},
   "source": [
    "## Train Mask Model on Dataset"
   ]
  },
  {
   "cell_type": "code",
   "execution_count": 54,
   "metadata": {},
   "outputs": [
    {
     "name": "stdout",
     "output_type": "stream",
     "text": [
      "Epoch 1/5\n",
      "128/128 [==============================] - 212s 2s/step - loss: 0.3356 - accuracy: 0.8744 - val_loss: 0.1078 - val_accuracy: 0.9755\n",
      "Epoch 2/5\n",
      "128/128 [==============================] - 217s 2s/step - loss: 0.1107 - accuracy: 0.9701 - val_loss: 0.0666 - val_accuracy: 0.9795\n",
      "Epoch 3/5\n",
      "128/128 [==============================] - 217s 2s/step - loss: 0.0706 - accuracy: 0.9793 - val_loss: 0.0545 - val_accuracy: 0.9848\n",
      "Epoch 4/5\n",
      "128/128 [==============================] - 184s 1s/step - loss: 0.0638 - accuracy: 0.9810 - val_loss: 0.0497 - val_accuracy: 0.9841\n",
      "Epoch 5/5\n",
      "128/128 [==============================] - 222s 2s/step - loss: 0.0614 - accuracy: 0.9810 - val_loss: 0.0524 - val_accuracy: 0.9815\n"
     ]
    }
   ],
   "source": [
    "# initialize the initial learning rate, number of epochs to train for,\n",
    "# and batch size\n",
    "INIT_LR = 1e-4\n",
    "EPOCHS = 5\n",
    "BS = 47\n",
    "\n",
    "# compile our model\n",
    "opt = Adam(learning_rate=INIT_LR, decay=INIT_LR / EPOCHS)\n",
    "model.compile(loss=\"binary_crossentropy\", optimizer=opt,\n",
    "    metrics=[\"accuracy\"])\n",
    "\n",
    "# train the head of the network\n",
    "H = model.fit(\n",
    "    aug.flow(trainX, trainY, batch_size=BS),\n",
    "    steps_per_epoch=len(trainX) // BS,\n",
    "    validation_data=(testX, testY),\n",
    "    validation_steps=len(testX) // BS,\n",
    "    epochs=EPOCHS)"
   ]
  },
  {
   "cell_type": "markdown",
   "metadata": {},
   "source": [
    "## Test Mask Model on Dataset"
   ]
  },
  {
   "cell_type": "code",
   "execution_count": 56,
   "metadata": {},
   "outputs": [
    {
     "name": "stdout",
     "output_type": "stream",
     "text": [
      "              precision    recall  f1-score   support\n",
      "\n",
      "           0       1.00      0.97      0.98       766\n",
      "           1       0.97      1.00      0.98       745\n",
      "\n",
      "    accuracy                           0.98      1511\n",
      "   macro avg       0.98      0.98      0.98      1511\n",
      "weighted avg       0.98      0.98      0.98      1511\n",
      "\n",
      "INFO:tensorflow:Assets written to: mask_detector\\assets\n"
     ]
    },
    {
     "name": "stderr",
     "output_type": "stream",
     "text": [
      "C:\\Users\\12148\\Anaconda3\\lib\\site-packages\\keras\\engine\\functional.py:1410: CustomMaskWarning: Custom mask layers require a config and must override get_config. When loading, the custom mask layer must be passed to the custom_objects argument.\n",
      "  layer_config = serialize_layer_fn(layer)\n",
      "C:\\Users\\12148\\Anaconda3\\lib\\site-packages\\keras\\saving\\saved_model\\layer_serialization.py:112: CustomMaskWarning: Custom mask layers require a config and must override get_config. When loading, the custom mask layer must be passed to the custom_objects argument.\n",
      "  return generic_utils.serialize_keras_object(obj)\n"
     ]
    }
   ],
   "source": [
    "# make predictions on the testing set\n",
    "predIdxs = model.predict(testX, batch_size=BS)\n",
    "\n",
    "# for each image in the testing set we need to find the index of the\n",
    "# label with corresponding largest predicted probability\n",
    "predIdxs = np.argmax(predIdxs, axis=1)\n",
    "\n",
    "# show a nicely formatted classification report\n",
    "print(classification_report(testY.argmax(axis=1), predIdxs))\n",
    "\n",
    "model.save(\"mask_detector\")"
   ]
  },
  {
   "cell_type": "markdown",
   "metadata": {},
   "source": [
    "## Evaluate Mask Model Performance"
   ]
  },
  {
   "cell_type": "code",
   "execution_count": 57,
   "metadata": {},
   "outputs": [
    {
     "data": {
      "text/plain": [
       "<matplotlib.legend.Legend at 0x1f5cfa0c288>"
      ]
     },
     "execution_count": 57,
     "metadata": {},
     "output_type": "execute_result"
    },
    {
     "data": {
      "image/png": "[encoded data removed]",
      "text/plain": [
       "<Figure size 432x288 with 1 Axes>"
      ]
     },
     "metadata": {},
     "output_type": "display_data"
    }
   ],
   "source": [
    "# plot the training loss and accuracy\n",
    "N = EPOCHS\n",
    "plt.style.use(\"ggplot\")\n",
    "plt.figure()\n",
    "plt.plot(np.arange(0, N), H.history[\"loss\"], label=\"train_loss\")\n",
    "plt.plot(np.arange(0, N), H.history[\"val_loss\"], label=\"val_loss\")\n",
    "plt.plot(np.arange(0, N), H.history[\"accuracy\"], label=\"train_acc\")\n",
    "plt.plot(np.arange(0, N), H.history[\"val_accuracy\"], label=\"val_acc\")\n",
    "plt.title(\"Training Loss and Accuracy\")\n",
    "plt.xlabel(\"Epoch #\")\n",
    "plt.ylabel(\"Loss/Accuracy\")\n",
    "plt.legend(loc=\"lower left\")"
   ]
  },
  {
   "cell_type": "markdown",
   "metadata": {},
   "source": [
    "## Download Face Detectors"
   ]
  },
  {
   "cell_type": "code",
   "execution_count": 58,
   "metadata": {},
   "outputs": [],
   "source": [
    "cascade_face_detector = cv.CascadeClassifier()\n",
    "cascade_face_detector.load('haarcascade_frontalface_default.xml')\n",
    "\n",
    "dnn_face_detector = cv.dnn.readNet('deploy.prototxt.txt', 'res10_300x300_ssd_iter_140000.caffemodel')"
   ]
  },
  {
   "cell_type": "markdown",
   "metadata": {},
   "source": [
    "## Display Detected Face in Window"
   ]
  },
  {
   "cell_type": "code",
   "execution_count": 59,
   "metadata": {},
   "outputs": [],
   "source": [
    "def cascadeDetectFaceAndDisplay(frame):\n",
    "    frame_gray = cv.cvtColor(frame, cv.COLOR_BGR2GRAY)\n",
    "    frame_gray = cv.equalizeHist(frame_gray)\n",
    "    \n",
    "    # Detect faces\n",
    "    faces = face_detector.detectMultiScale(frame_gray, 1.3, 5)\n",
    "    for (x,y,w,h) in faces:\n",
    "        frame = cv.rectangle(frame, (x, y), (x + w, y+ h), (255, 0, 255), 4)\n",
    "    frame = cv.resize(frame, (640,640))\n",
    "    cv.imshow('Capture - Face detection', frame)"
   ]
  },
  {
   "cell_type": "code",
   "execution_count": 60,
   "metadata": {},
   "outputs": [],
   "source": [
    "def dnnDetectFaceAndDisplay(frame):\n",
    "    # load the input image from disk, clone it, and grab the image spatial\n",
    "    # dimensions\n",
    "    (h, w) = frame.shape[:2]\n",
    "    # construct a blob from the image\n",
    "    blob = cv.dnn.blobFromImage(frame, 1.0, (300, 300),\n",
    "        (104.0, 177.0, 123.0))\n",
    "    # pass the blob through the network and obtain the face detections\n",
    "    dnn_face_detector.setInput(blob)\n",
    "    detections = dnn_face_detector.forward()\n",
    "    \n",
    "    # loop over the detections\n",
    "    for i in range(0, detections.shape[2]):\n",
    "        # extract the confidence (i.e., probability) associated with\n",
    "        # the detection\n",
    "        confidence = detections[0, 0, i, 2]\n",
    "    \n",
    "        # filter out weak detections by ensuring the confidence is\n",
    "        # greater than the minimum confidence\n",
    "        if confidence > 0.6:\n",
    "            # compute the (x, y)-coordinates of the bounding box for\n",
    "            # the object\n",
    "            box = detections[0, 0, i, 3:7] * np.array([w, h, w, h])\n",
    "            (startX, startY, endX, endY) = box.astype(\"int\")\n",
    "            \n",
    "            frame = cv.rectangle(frame, (startX, startY), (endX, endY), (255, 0, 255), 2)\n",
    "\n",
    "            \n",
    "    frame = cv.resize(frame, (600,600))\n",
    "    cv.imshow('Capture - Face detection', frame)"
   ]
  },
  {
   "cell_type": "markdown",
   "metadata": {},
   "source": [
    "## Display Detected Face and Mask Prediction in Window"
   ]
  },
  {
   "cell_type": "code",
   "execution_count": 124,
   "metadata": {},
   "outputs": [],
   "source": [
    "def dnnDetectMaskAndDisplay(frame):\n",
    "    # load the input image from disk, clone it, and grab the image spatial\n",
    "    # dimensions\n",
    "    (h, w) = frame.shape[:2]\n",
    "    # construct a blob from the image\n",
    "    blob = cv.dnn.blobFromImage(frame, 1.0, (100, 100),\n",
    "        (104.0, 177.0, 123.0))\n",
    "    # pass the blob through the network and obtain the face detections\n",
    "    dnn_face_detector.setInput(blob)\n",
    "    detections = dnn_face_detector.forward()\n",
    "    \n",
    "    faces = []\n",
    "    locs = []\n",
    "    preds = []\n",
    "    \n",
    "    # loop over the detections\n",
    "    for i in range(0, detections.shape[2]):\n",
    "        # extract the confidence (i.e., probability) associated with\n",
    "        # the detection\n",
    "        confidence = detections[0, 0, i, 2]\n",
    "    \n",
    "        # filter out weak detections by ensuring the confidence is\n",
    "        # greater than the minimum confidence\n",
    "        if confidence > 0.3:\n",
    "            # compute the (x, y)-coordinates of the bounding box for\n",
    "            # the object\n",
    "            box = detections[0, 0, i, 3:7] * np.array([w, h, w, h])\n",
    "            (startX, startY, endX, endY) = box.astype(\"int\")\n",
    "            \n",
    "            # ensure the bounding boxes fall within the dimensions of\n",
    "            # the frame\n",
    "            (startX, startY) = (max(0, startX), max(0, startY))\n",
    "            (endX, endY) = (min(w - 1, endX), min(h - 1, endY))\n",
    "            \n",
    "            # extract the face ROI, convert it from BGR to RGB channel\n",
    "            # ordering, resize it to 224x224, and preprocess it\n",
    "            face = frame[startY:endY, startX:endX]\n",
    "            face = cv.cvtColor(face, cv.COLOR_BGR2RGB)\n",
    "            face = cv.resize(face, (224, 224))\n",
    "            face = img_to_array(face)\n",
    "            face = preprocess_input(face)\n",
    "            face = np.expand_dims(face, axis=0)\n",
    "            \n",
    "            (withoutMask, mask) = model.predict(face)[0]\n",
    "            \n",
    "            # determine the class label and color we'll use to draw\n",
    "            # the bounding box and text\n",
    "            label = \"Mask\" if mask > withoutMask else \"No Mask\"\n",
    "            color = (0, 255, 0) if label == \"Mask\" else (0, 0, 255)\n",
    "            \n",
    "            # display the label and bounding box rectangle on the output\n",
    "            # frame\n",
    "            cv.putText(frame, label, (startX, startY - 30),\n",
    "                cv.FONT_HERSHEY_SIMPLEX, 1, color, 2)\n",
    "            cv.rectangle(frame, (startX, startY), (endX, endY), color, 2)\n",
    "\n",
    "            \n",
    "    frame = cv.resize(frame, (640, 480))\n",
    "    cv.putText(frame, '98.6F', (550, 25),\n",
    "                cv.FONT_HERSHEY_SIMPLEX, 1, (0, 255, 0), 2)\n",
    "    cv.imshow('Capture - Face detection', frame)"
   ]
  },
  {
   "cell_type": "markdown",
   "metadata": {},
   "source": [
    "## Detect Face and Make Mask Prediction for Display"
   ]
  },
  {
   "cell_type": "code",
   "execution_count": 127,
   "metadata": {},
   "outputs": [],
   "source": [
    "def dnnDetectMask(frame):\n",
    "    # load the input image from disk, clone it, and grab the image spatial\n",
    "    # dimensions\n",
    "    (h, w) = frame.shape[:2]\n",
    "    # construct a blob from the image\n",
    "    blob = cv.dnn.blobFromImage(frame, 1.0, (100, 100),\n",
    "        (104.0, 177.0, 123.0))\n",
    "    # pass the blob through the network and obtain the face detections\n",
    "    dnn_face_detector.setInput(blob)\n",
    "    detections = dnn_face_detector.forward()\n",
    "    \n",
    "    label = ''\n",
    "    \n",
    "    # loop over the detections\n",
    "    for i in range(0, detections.shape[2]):\n",
    "        # extract the confidence (i.e., probability) associated with\n",
    "        # the detection\n",
    "        confidence = detections[0, 0, i, 2]\n",
    "    \n",
    "        # filter out weak detections by ensuring the confidence is\n",
    "        # greater than the minimum confidence\n",
    "        if confidence > 0.3:\n",
    "            # compute the (x, y)-coordinates of the bounding box for\n",
    "            # the object\n",
    "            box = detections[0, 0, i, 3:7] * np.array([w, h, w, h])\n",
    "            (startX, startY, endX, endY) = box.astype(\"int\")\n",
    "            \n",
    "            # ensure the bounding boxes fall within the dimensions of\n",
    "            # the frame\n",
    "            (startX, startY) = (max(0, startX), max(0, startY))\n",
    "            (endX, endY) = (min(w - 1, endX), min(h - 1, endY))\n",
    "            \n",
    "            # extract the face ROI, convert it from BGR to RGB channel\n",
    "            # ordering, resize it to 224x224, and preprocess it\n",
    "            face = frame[startY:endY, startX:endX]\n",
    "            face = cv.cvtColor(face, cv.COLOR_BGR2RGB)\n",
    "            face = cv.resize(face, (224, 224))\n",
    "            face = img_to_array(face)\n",
    "            face = preprocess_input(face)\n",
    "            face = np.expand_dims(face, axis=0)\n",
    "            \n",
    "            (withoutMask, mask) = model.predict(face)[0]\n",
    "            \n",
    "            # determine the class label and color we'll use to draw\n",
    "            # the bounding box and text\n",
    "            label = \"Mask\" if mask > withoutMask else \"No Mask\"\n",
    "            color = (0, 255, 0) if label == \"Mask\" else (0, 0, 255)\n",
    "            \n",
    "            # display the label and bounding box rectangle on the output\n",
    "            # frame\n",
    "            cv.putText(frame, label, (startX, startY - 30),\n",
    "                cv.FONT_HERSHEY_SIMPLEX, 1, color, 2)\n",
    "            cv.rectangle(frame, (startX, startY), (endX, endY), color, 2)\n",
    "            \n",
    "            # add the face and bounding boxes to their respective\n",
    "            # lists\n",
    "\n",
    "            \n",
    "    return (cv.resize(frame, (640, 480)), label)"
   ]
  },
  {
   "cell_type": "markdown",
   "metadata": {},
   "source": [
    "## Read Body Temperature"
   ]
  },
  {
   "cell_type": "code",
   "execution_count": null,
   "metadata": {},
   "outputs": [],
   "source": [
    "def readTemp(sensor, temp, validTemp)\n",
    "    measured = sensor.get_object_1()\n",
    "    if (measured >= 36):\n",
    "        if (validTemp == 0 || measured > temp):\n",
    "            temp = measured\n",
    "        validTemp = 1\n",
    "    else:\n",
    "        validTemp = 0\n",
    "            \n",
    "    return temp, validTemp"
   ]
  },
  {
   "cell_type": "markdown",
   "metadata": {},
   "source": [
    "## Real Time Mask Detection on Laptop"
   ]
  },
  {
   "cell_type": "code",
   "execution_count": 158,
   "metadata": {},
   "outputs": [],
   "source": [
    "cap = cv.VideoCapture(0)\n",
    "cap.set(cv.CAP_PROP_BUFFERSIZE, 2)\n",
    "\n",
    "\n",
    "while cap.isOpened():\n",
    "    ret, frame = cap.read()\n",
    "    \n",
    "    # if frame is read correctly ret is True\n",
    "    if not ret:\n",
    "        print(\"Can't receive frame (stream end?). Exiting ...\")\n",
    "        break\n",
    "\n",
    "    frame, label = dnnDetectMask(frame)\n",
    "    cv.putText(frame, '98.6F', (532, 25),\n",
    "                cv.FONT_HERSHEY_SIMPLEX, 1, (0, 255, 0), 2)\n",
    "    \n",
    "    if (label == 'No Mask'):\n",
    "        cv.rectangle(frame, (140, 43), (527, 95), (0, 0, 255), -1)\n",
    "        cv.putText(frame, 'ENTRY DENIED', (145, 87),\n",
    "                cv.FONT_HERSHEY_SIMPLEX, 1.7, (0, 0, 0), 3)\n",
    "    elif (label == 'Mask'):\n",
    "        cv.rectangle(frame, (123, 43), (545, 95), (0, 255, 0), -1)\n",
    "        cv.putText(frame, 'ENTRY GRANTED', (120, 87),\n",
    "                cv.FONT_HERSHEY_SIMPLEX, 1.7, (0, 0, 0), 3)\n",
    "        \n",
    "    cv.imshow('Capture - Face detection', frame)    \n",
    "        \n",
    "    if cv.waitKey(1) == ord('q'):\n",
    "        break\n",
    "        \n",
    "        \n",
    "cap.release()\n",
    "cv.destroyAllWindows()"
   ]
  },
  {
   "cell_type": "markdown",
   "metadata": {},
   "source": [
    "## Real Time Mask Detection on Raspberry PI"
   ]
  },
  {
   "cell_type": "code",
   "execution_count": null,
   "metadata": {},
   "outputs": [],
   "source": [
    "camera = PiCamera()\n",
    "camera.resolution = (640, 480)\n",
    "camera.framerate = 32\n",
    "rawCapture = PiRGBArray(camera, size=(640, 480))\n",
    "\n",
    "time.sleep(0.1)\n",
    "\n",
    "# capture frames from the camera\n",
    "for frame in camera.capture_continuous(rawCapture, format=\"bgr\", use_video_port=True):\n",
    "    # grab the raw NumPy array representing the image, then initialize the timestamp\n",
    "    # and occupied/unoccupied text\n",
    "    frame = frame.array\n",
    "    \n",
    "    # show the frame\n",
    "    dnnDetectMaskAndDisplay(frame)\n",
    "    key = cv.waitKey(1) & 0xFF\n",
    "    \n",
    "    # clear the stream in preparation for the next frame\n",
    "    rawCapture.truncate(0)\n",
    "    \n",
    "    # if the `q` key was pressed, break from the loop\n",
    "    if key == ord(\"q\"):\n",
    "        break\n",
    "        \n",
    "cv.destroyAllWindows()"
   ]
  },
  {
   "cell_type": "markdown",
   "metadata": {},
   "source": [
    "## Real Time Entry Requirement Detection on Raspberry Pi"
   ]
  },
  {
   "cell_type": "code",
   "execution_count": 104,
   "metadata": {},
   "outputs": [
    {
     "ename": "NameError",
     "evalue": "name 'PiCamera' is not defined",
     "output_type": "error",
     "traceback": [
      "\u001b[1;31m---------------------------------------------------------------------------\u001b[0m",
      "\u001b[1;31mNameError\u001b[0m                                 Traceback (most recent call last)",
      "\u001b[1;32m<ipython-input-104-20dffc5a6d0c>\u001b[0m in \u001b[0;36m<module>\u001b[1;34m\u001b[0m\n\u001b[1;32m----> 1\u001b[1;33m \u001b[0mcamera\u001b[0m \u001b[1;33m=\u001b[0m \u001b[0mPiCamera\u001b[0m\u001b[1;33m(\u001b[0m\u001b[1;33m)\u001b[0m\u001b[1;33m\u001b[0m\u001b[1;33m\u001b[0m\u001b[0m\n\u001b[0m\u001b[0;32m      2\u001b[0m \u001b[0mcamera\u001b[0m\u001b[1;33m.\u001b[0m\u001b[0mresolution\u001b[0m \u001b[1;33m=\u001b[0m \u001b[1;33m(\u001b[0m\u001b[1;36m640\u001b[0m\u001b[1;33m,\u001b[0m \u001b[1;36m480\u001b[0m\u001b[1;33m)\u001b[0m\u001b[1;33m\u001b[0m\u001b[1;33m\u001b[0m\u001b[0m\n\u001b[0;32m      3\u001b[0m \u001b[0mcamera\u001b[0m\u001b[1;33m.\u001b[0m\u001b[0mframerate\u001b[0m \u001b[1;33m=\u001b[0m \u001b[1;36m32\u001b[0m\u001b[1;33m\u001b[0m\u001b[1;33m\u001b[0m\u001b[0m\n\u001b[0;32m      4\u001b[0m \u001b[0mrawCapture\u001b[0m \u001b[1;33m=\u001b[0m \u001b[0mPiRGBArray\u001b[0m\u001b[1;33m(\u001b[0m\u001b[0mcamera\u001b[0m\u001b[1;33m,\u001b[0m \u001b[0msize\u001b[0m\u001b[1;33m=\u001b[0m\u001b[1;33m(\u001b[0m\u001b[1;36m640\u001b[0m\u001b[1;33m,\u001b[0m \u001b[1;36m480\u001b[0m\u001b[1;33m)\u001b[0m\u001b[1;33m)\u001b[0m\u001b[1;33m\u001b[0m\u001b[1;33m\u001b[0m\u001b[0m\n\u001b[0;32m      5\u001b[0m \u001b[1;33m\u001b[0m\u001b[0m\n",
      "\u001b[1;31mNameError\u001b[0m: name 'PiCamera' is not defined"
     ]
    }
   ],
   "source": [
    "camera = PiCamera()\n",
    "camera.resolution = (640, 480)\n",
    "camera.framerate = 32\n",
    "rawCapture = PiRGBArray(camera, size=(640, 480))\n",
    "\n",
    "time.sleep(0.1)\n",
    "\n",
    "bus = SMBus(1)\n",
    "sensor = MLX90614(bus, address=0x5A)\n",
    "temp = 0\n",
    "validTemp = 0\n",
    "\n",
    "# capture frames from the camera\n",
    "for frame in camera.capture_continuous(rawCapture, format=\"bgr\", use_video_port=True):\n",
    "    # grab the raw NumPy array representing the image, then initialize the timestamp\n",
    "    # and occupied/unoccupied text\n",
    "    frame = frame.array\n",
    "    \n",
    "    # show the frame\n",
    "    frame, label = dnnDetectMask(frame)\n",
    "    temp, validTemp = readTemp(sensor, temp, validTemp)\n",
    "    \n",
    "    if (label == 'No Mask'):\n",
    "        cv.rectangle(frame, (140, 43), (527, 95), (0, 0, 255), -1)\n",
    "        cv.putText(frame, 'ENTRY DENIED', (145, 87),\n",
    "                cv.FONT_HERSHEY_SIMPLEX, 1.7, (0, 0, 0), 3)\n",
    "    elif (label == 'Mask'):\n",
    "        if (temp <= 38):\n",
    "            cv.rectangle(frame, (startX, startY), (endX, endY), (0, 255, 0), 2)\n",
    "            cv.putText(frame, 'ENTRY GRANTED', (startX, startY - 30),\n",
    "                cv.FONT_HERSHEY_SIMPLEX, 2, (255, 255, 255), 2)\n",
    "        else:\n",
    "            cv.rectangle(frame, (startX, startY), (endX, endY), (0, 0, 255), 2)\n",
    "            cv.putText(frame, 'ENTRY DENIED', (startX, startY - 30),\n",
    "                cv.FONT_HERSHEY_SIMPLEX, 2, (255, 255, 255), 2)\n",
    "    \n",
    "    if (temp <= 38):\n",
    "        color = (0, 255, 0)\n",
    "    else:\n",
    "        color = (255, 0, 0)\n",
    "    \n",
    "    farenheit = (temp * 9 / 5) + 32\n",
    "    temp_str = str(farenheit) + 'F'\n",
    "        \n",
    "    cv.putText(frame, temp_str, (550, 25),\n",
    "                cv.FONT_HERSHEY_SIMPLEX, 1, color, 2)\n",
    "    \n",
    "    cv.imshow('Capture - Face detection', frame)\n",
    "    key = cv.waitKey(1) & 0xFF\n",
    "    \n",
    "    # clear the stream in preparation for the next frame\n",
    "    rawCapture.truncate(0)\n",
    "    \n",
    "    # if the `q` key was pressed, break from the loop\n",
    "    if key == ord(\"q\"):\n",
    "        break\n",
    "        \n",
    "cv.destroyAllWindows()"
   ]
  },
  {
   "cell_type": "code",
   "execution_count": null,
   "metadata": {},
   "outputs": [],
   "source": []
  }
 ],
 "metadata": {
  "kernelspec": {
   "display_name": "Python 3",
   "language": "python",
   "name": "python3"
  },
  "language_info": {
   "codemirror_mode": {
    "name": "ipython",
    "version": 3
   },
   "file_extension": ".py",
   "mimetype": "text/x-python",
   "name": "python",
   "nbconvert_exporter": "python",
   "pygments_lexer": "ipython3",
   "version": "3.7.4"
  }
 },
 "nbformat": 4,
 "nbformat_minor": 2
}
